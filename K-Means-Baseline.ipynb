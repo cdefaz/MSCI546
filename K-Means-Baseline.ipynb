{
 "cells": [
  {
   "cell_type": "code",
   "execution_count": null,
   "metadata": {},
   "outputs": [],
   "source": [
    "# Code taken from https://realpython.com/k-means-clustering-python/#how-to-perform-k-means-clustering-in-python\n",
    "# Code taken from https://www.geeksforgeeks.org/k-means-clustering-on-the-handwritten-digits-data-using-scikit-learn-in-python/\n",
    "import matplotlib.pyplot as plt\n",
    "from sklearn.cluster import KMeans\n",
    "from sklearn.metrics import \\\n",
    "    silhouette_score, adjusted_rand_score, accuracy_score, precision_score, recall_score, f1_score\n",
    "from sklearn.preprocessing import StandardScaler\n",
    "from sklearn.decomposition import PCA\n",
    "from sklearn.model_selection import train_test_split\n",
    "from sklearn import metrics\n",
    "import numpy as np\n",
    "import pandas as pd"
   ]
  },
  {
   "cell_type": "code",
   "execution_count": null,
   "metadata": {},
   "outputs": [],
   "source": [
    "df = pd.read_csv('digit-recognizer/train.csv')\n",
    "x = df.loc[:, df.columns != \"label\"]\n",
    "y = df['label']\n",
    "X_train, X_test, y_train, y_test = train_test_split(x, y, test_size=0.2, random_state=42)"
   ]
  },
  {
   "cell_type": "code",
   "execution_count": null,
   "metadata": {},
   "outputs": [],
   "source": [
    "scaler = StandardScaler()\n",
    "scaled_xtrain_features = scaler.fit_transform(X_train)\n",
    "scaled_xtest_features = scaler.fit_transform(X_test)"
   ]
  },
  {
   "cell_type": "code",
   "execution_count": null,
   "metadata": {},
   "outputs": [],
   "source": [
    "kmeans = KMeans(\n",
    "    init = \"k-means++\",\n",
    "    n_clusters = 10,\n",
    "    n_init = 50,\n",
    "    max_iter = 500,\n",
    "    random_state = 42\n",
    ")\n",
    "kmeans.fit(scaled_xtrain_features)"
   ]
  },
  {
   "cell_type": "code",
   "execution_count": null,
   "metadata": {},
   "outputs": [],
   "source": [
    "predicted_labels = kmeans.labels_\n",
    "\n",
    "print(f\"Inertia: {kmeans.inertia_}\")\n",
    "print(f\"Cluster Centres: {kmeans.cluster_centers_}\")\n",
    "print(f\"# Iterations: {kmeans.n_iter_}\")\n",
    "# A silhouette coefficient of 0 indicates that clusters are significantly overlapping one another, \n",
    "# and a silhouette coefficient of 1 indicates clusters are well-separated.\n",
    "print(f\"Silhouette Score: {silhouette_score(scaled_xtrain_features, predicted_labels)}\")\n",
    "# An ARI score of 0 indicates that cluster labels are randomly assigned, \n",
    "# and an ARI score of 1 means that the true labels and predicted labels form identical clusters.\n",
    "print(f\"Adjusted Rand Score: {adjusted_rand_score(y_train, predicted_labels)}\")"
   ]
  },
  {
   "cell_type": "code",
   "execution_count": null,
   "metadata": {},
   "outputs": [],
   "source": [
    "predicted_ytest_labels = kmeans.predict(scaled_xtest_features)"
   ]
  },
  {
   "cell_type": "code",
   "execution_count": null,
   "metadata": {},
   "outputs": [],
   "source": [
    "predicted_ytest_labels"
   ]
  },
  {
   "cell_type": "code",
   "execution_count": null,
   "metadata": {},
   "outputs": [],
   "source": [
    "# Code taken from https://medium.com/@joel_34096/k-means-clustering-for-image-classification-a648f28bdc47\n",
    "def retrieve_info(cluster_labels,y_train):\n",
    "    \"\"\"Associates most probable label with each cluster in KMeans model \n",
    "    returns: dictionary of clusters assigned to each label\"\"\"\n",
    "    # Initializing\n",
    "    reference_labels = {}\n",
    "    # For loop to run through each label of cluster label\n",
    "    for i in range(len(np.unique(kmeans.labels_))):\n",
    "        index = np.where(cluster_labels == i,1,0)\n",
    "        num = np.bincount(y_train[index==1]).argmax()\n",
    "        reference_labels[i] = num\n",
    "    return reference_labels\n",
    "\n",
    "reference_labels = retrieve_info(predicted_labels, y_train)\n",
    "reference_labels"
   ]
  },
  {
   "cell_type": "code",
   "execution_count": null,
   "metadata": {},
   "outputs": [],
   "source": [
    "number_labels = np.random.rand(len(predicted_ytest_labels))\n",
    "for i in range(len(predicted_ytest_labels)):\n",
    "    number_labels[i] = reference_labels[predicted_ytest_labels[i]]"
   ]
  },
  {
   "cell_type": "code",
   "execution_count": null,
   "metadata": {},
   "outputs": [],
   "source": [
    "confusion_matrix = metrics.confusion_matrix(y_test, number_labels)\n",
    "cm_display = metrics.ConfusionMatrixDisplay(confusion_matrix = confusion_matrix)\n",
    "cm_display.plot()\n",
    "plt.show()"
   ]
  },
  {
   "cell_type": "code",
   "execution_count": null,
   "metadata": {},
   "outputs": [],
   "source": [
    "# macro average does not take label imbalance into account\n",
    "# micro and weighted averages return same value as accuracy score\n",
    "print(f\"Accuracy: {round(accuracy_score(y_test, number_labels), 4) * 100}%\")\n",
    "print(f\"Precision: {round(precision_score(y_test, number_labels, average = 'macro'), 4) * 100}%\")\n",
    "print(f\"Recall: {round(recall_score(y_test, number_labels, average = 'macro'), 4) * 100}%\")\n",
    "print(f\"F1 Score: {round(f1_score(y_test, number_labels, average = 'macro'), 4) * 100}%\")"
   ]
  },
  {
   "cell_type": "markdown",
   "metadata": {},
   "source": [
    "## Creating the Clustering Visualization"
   ]
  },
  {
   "cell_type": "code",
   "execution_count": null,
   "metadata": {},
   "outputs": [],
   "source": [
    "kmeans_cluster = KMeans(init=\"k-means++\", n_clusters=10, n_init=10, random_state=0)\n",
    "\n",
    "# Reducing the dataset \n",
    "pca = PCA(2) \n",
    "reduced_data = pca.fit_transform(scaled_xtrain_features) \n",
    "kmeans_cluster.fit(reduced_data) \n",
    "  \n",
    "# Calculating the centroids \n",
    "centroids = kmeans_cluster.cluster_centers_ \n",
    "label = kmeans_cluster.fit_predict(reduced_data) \n",
    "unique_labels = np.unique(label) \n",
    "  \n",
    "# plotting the clusters: \n",
    "plt.figure(figsize=(8, 8)) \n",
    "for i in unique_labels: \n",
    "    plt.scatter(reduced_data[label == i, 0], reduced_data[label == i, 1], label=i) \n",
    "plt.scatter(centroids[:, 0], centroids[:, 1], marker='x', s=169, linewidths=3, color='k', zorder=10) \n",
    "plt.legend() \n",
    "plt.xlabel(\"Component 1\")\n",
    "plt.ylabel(\"Component 2\")\n",
    "plt.title(\"Clustering by Principal Component Analysis\")\n",
    "plt.show() "
   ]
  }
 ],
 "metadata": {
  "kernelspec": {
   "display_name": "Python 3",
   "language": "python",
   "name": "python3"
  },
  "language_info": {
   "codemirror_mode": {
    "name": "ipython",
    "version": 3
   },
   "file_extension": ".py",
   "mimetype": "text/x-python",
   "name": "python",
   "nbconvert_exporter": "python",
   "pygments_lexer": "ipython3",
   "version": "3.12.1"
  }
 },
 "nbformat": 4,
 "nbformat_minor": 2
}
