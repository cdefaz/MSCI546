{
 "cells": [
  {
   "cell_type": "markdown",
   "metadata": {},
   "source": [
    "# K Nearest Neighbour Algorithm \n",
    "## For Handwritten Digit Recognition"
   ]
  },
  {
   "cell_type": "markdown",
   "metadata": {},
   "source": [
    "Code for the training and testing of this algorithm is based on these articles:\n",
    "-  https://medium.com/@nikhilanandikam/handwritten-digit-recognition-hdr-using-k-nearest-neighbors-knn-f4c794a0282a\n",
    "- Allibhai, J. (2018, October 2). Building a K-nearest-neighbors (K-nn) model with Scikit-Learn. Medium. https://towardsdatascience.com/building-a-k-nearest-neighbors-k-nn-model-with-scikit-learn-51209555453a "
   ]
  },
  {
   "cell_type": "code",
   "execution_count": null,
   "metadata": {},
   "outputs": [],
   "source": [
    "# Imports & Librarys\n",
    "from sklearn.metrics import precision_score, recall_score, f1_score, confusion_matrix\n",
    "from sklearn.model_selection import train_test_split, cross_val_score, GridSearchCV\n",
    "from sklearn.neighbors import KNeighborsClassifier\n",
    "\n",
    "import numpy as np\n",
    "import pandas as pd \n",
    "import matplotlib.pyplot as plt\n",
    "import matplotlib\n",
    "import sklearn.metrics as metrics\n",
    "import seaborn as sns"
   ]
  },
  {
   "cell_type": "markdown",
   "metadata": {},
   "source": [
    "The methods used in the implementation of this code are as follows:  \n",
    "```accuracy```  \n",
    "Determines the accuracy score of the model  \n",
    "\n",
    "```Get_Neightbors```\n",
    "Finds the closest items to the item we are predicting  \n",
    "\n",
    "```predict_Classification```  \n",
    "Makes the preictions using the get neighbors methods\n",
    "\n",
    "\n"
   ]
  },
  {
   "cell_type": "code",
   "execution_count": null,
   "metadata": {},
   "outputs": [],
   "source": [
    "# Methods\n",
    "def accuracy(y_true, y_pred):\n",
    "   n_correct = 0\n",
    "   for i in range(len(y_true)):\n",
    "      if y_true[i] == y_pred[i]:\n",
    "         n_correct += 1\n",
    "   acc = n_correct/len(y_true)\n",
    "   return acc\n",
    "\n",
    "def Get_Neighbors(train, test_row, num):\n",
    "   distance = list() # []\n",
    "   data = []\n",
    "   for i in train:\n",
    "      dist = Euclidean_distance(test_row, i)\n",
    "      distance.append(dist)\n",
    "      data.append(i)\n",
    "   distance = np.array(distance)\n",
    "   data = np.array(data)\n",
    "   #Finding the index in ascending order\n",
    "   index_dist = distance.argsort()\n",
    "   #Arranging data according to index\n",
    "   data = data[index_dist]\n",
    "   #slicing k value from number of data\n",
    "   neighbors = data[:num]\n",
    "   \n",
    "   return neighbors\n",
    "\n",
    "def Euclidean_distance(row1, row2):\n",
    "   distance = 0\n",
    "   for i in range(len(row1)-1):\n",
    "      distance += (row1[i] - row2[i])**2\n",
    "   return np.sqrt(distance)\n",
    "\n",
    "def predict_classification(train, test_row, num):\n",
    "   Neighbors = Get_Neighbors(train, test_row, num)\n",
    "   Classes = []\n",
    "   for i in Neighbors:\n",
    "      Classes.append(i[-1])\n",
    "   prediction = max(Classes, key= Classes.count)\n",
    "   return prediction"
   ]
  },
  {
   "cell_type": "code",
   "execution_count": null,
   "metadata": {},
   "outputs": [],
   "source": [
    "# df = pd.read_csv(\"C:/Users/ccjd5/OneDrive - University of Waterloo/4B/MSCI 546/MSCI546/train.csv\")\n",
    "df = pd.read_csv('digit-recognizer/train.csv')\n",
    "features = df.loc[:, df.columns != 'label']\n",
    "true_labels = df['label']\n",
    "x = np.array(features)\n",
    "y = np.array(true_labels)\n",
    "x.shape, y.shape\n",
    "#output ((70000, 784), (70000,))\n",
    "# shuffling the values of x and y\n",
    "si = np.random.permutation(x.shape[0])\n",
    "x = x[si]\n",
    "y = y[si]"
   ]
  },
  {
   "cell_type": "code",
   "execution_count": null,
   "metadata": {},
   "outputs": [],
   "source": [
    "#split dataset into train and test data\n",
    "X_train, X_test, y_train, y_test = train_test_split(x, y, test_size=0.2, random_state=1, stratify=y)\n",
    "# Create KNN classifier\n",
    "knn = KNeighborsClassifier(n_neighbors = 3)\n",
    "# Fit the classifier to the data\n",
    "knn.fit(X_train,y_train)\n",
    "\n",
    "#create a new KNN model\n",
    "knn_cv = KNeighborsClassifier(n_neighbors=3)\n",
    "#train model with cv of 5 \n",
    "cv_scores = cross_val_score(knn_cv, x, y, cv=5)\n",
    "#print each cv score (accuracy) and average them\n",
    "print(cv_scores)\n",
    "print('cv_scores mean:{}'.format(np.mean(cv_scores)))\n",
    "\n",
    "#create new a knn model\n",
    "knn2 = KNeighborsClassifier()\n",
    "#create a dictionary of all values we want to test for n_neighbors\n",
    "param_grid = {'n_neighbors': np.arange(1, 25)}\n",
    "#use gridsearch to test all values for n_neighbors\n",
    "knn_gscv = GridSearchCV(knn2, param_grid, cv=5)\n",
    "#fit model to data\n",
    "knn_gscv.fit(x, y)\n",
    "\n",
    "\n",
    "#slicing data\n",
    "#trainx = x[:2000]\n",
    "#trainy = y[:2000]\n",
    "#Inserting trainy in trainx\n",
    "#train = np.insert(trainx, 784, trainy, axis = 1)"
   ]
  },
  {
   "cell_type": "code",
   "execution_count": null,
   "metadata": {},
   "outputs": [],
   "source": [
    "# Metrics\n",
    "print(knn_gscv.best_params_)\n",
    "y_pred = knn_gscv.predict(X_test)\n",
    "print(\"Accuracy:\", accuracy(y_test, y_pred))\n",
    "print(\"Recall:\", recall_score(y_test, y_pred, average='weighted'))\n",
    "print(\"Precisison:\", precision_score(y_test, y_pred, average='weighted'))\n",
    "print(\"F1 Score:\", f1_score(y_test,y_pred, average='weighted'))\n"
   ]
  },
  {
   "cell_type": "code",
   "execution_count": null,
   "metadata": {},
   "outputs": [],
   "source": [
    "confusion_matrix = metrics.confusion_matrix(y_test, y_pred)\n",
    "cm_display = metrics.ConfusionMatrixDisplay(confusion_matrix = confusion_matrix)\n",
    "cm_display.plot()\n",
    "plt.show()\n"
   ]
  }
 ],
 "metadata": {
  "kernelspec": {
   "display_name": "pyspark2",
   "language": "python",
   "name": "python3"
  },
  "language_info": {
   "codemirror_mode": {
    "name": "ipython",
    "version": 3
   },
   "file_extension": ".py",
   "mimetype": "text/x-python",
   "name": "python",
   "nbconvert_exporter": "python",
   "pygments_lexer": "ipython3",
   "version": "3.10.9"
  }
 },
 "nbformat": 4,
 "nbformat_minor": 2
}
